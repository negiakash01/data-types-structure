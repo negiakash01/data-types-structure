{
  "nbformat": 4,
  "nbformat_minor": 0,
  "metadata": {
    "colab": {
      "provenance": []
    },
    "kernelspec": {
      "name": "python3",
      "display_name": "Python 3"
    },
    "language_info": {
      "name": "python"
    }
  },
  "cells": [
    {
      "cell_type": "markdown",
      "source": [
        "# ***ASSIGNMENT 02 - Data Types & Structures***"
      ],
      "metadata": {
        "id": "qgrvrLpVtJ9r"
      }
    },
    {
      "cell_type": "markdown",
      "source": [
        "## ***Theory Solutions***"
      ],
      "metadata": {
        "id": "q4PNX38Jgacr"
      }
    },
    {
      "cell_type": "markdown",
      "source": [
        "### Question 01--> What are data structures, and why are they important?\n",
        "***Ans-->*** Data structures are specialized formats for organizing, storing, and managing data in computer systems. They define the relationship between different pieces of data and provide ways to efficiently process, retrieve, and modify data"
      ],
      "metadata": {
        "id": "NvFKkyYrdpUa"
      }
    },
    {
      "cell_type": "markdown",
      "source": [
        "### Question 02--> Explain the difference between mutable and immutable data types with examples.\n",
        "***Ans-->*** Mutable Data Types\n",
        "\n",
        "Definition: Mutable data types can be changed or modified after their creation.\n",
        "\n",
        "Meaning: You can alter their contents (e.g., add, remove, or update elements) without creating a new object.\n",
        "\n",
        "Immutable Data Types\n",
        "\n",
        "Definition: Immutable data types cannot be changed after they are created. Any operation that appears to modify them actually creates a new object.\n",
        "\n",
        "Meaning: Their value remains constant throughout their existence.\n"
      ],
      "metadata": {
        "id": "NqwSioPKdpRN"
      }
    },
    {
      "cell_type": "markdown",
      "source": [
        "### Question 03-->What are the main differences between lists and tuples in Python?\n",
        "***Ans-->*** Lists are mutable, meaning their contents can be changed by adding, removing, or updating elements, while tuples are immutable and cannot be altered after creation."
      ],
      "metadata": {
        "id": "W5cpwmpMdpOV"
      }
    },
    {
      "cell_type": "markdown",
      "source": [
        "### Question 04-->Describe how dictionaries store data.\n",
        "***Ans-->*** Dictionaries in Python store data as key-value pairs using a data structure called a hash table. Each key is processed by a hash function to determine a unique index in the underlying array, where its corresponding value is stored."
      ],
      "metadata": {
        "id": "Pm6JjN5PdpLN"
      }
    },
    {
      "cell_type": "markdown",
      "source": [
        "### Question 05-->Why might you use a set instead of a list in Python?\n",
        "***Ans-->*** We might use a set instead of a list in Python when you need to store a collection of unique elements and do not care about the order of those elements. Unlike lists, sets automatically eliminate duplicate values, ensuring all items are distinct."
      ],
      "metadata": {
        "id": "qG9SnjJqdpH7"
      }
    },
    {
      "cell_type": "markdown",
      "source": [
        "### Question 06-->What is a string in Python, and how is it different from a list?\n",
        "***Ans-->*** A string in Python is a sequence of characters enclosed in single or double quotes, such as \"hello\" or 'world'. Strings are designed specifically for representing textual data and are immutable, meaning their contents cannot be changed after creation."
      ],
      "metadata": {
        "id": "ArYKA6DkdpFN"
      }
    },
    {
      "cell_type": "markdown",
      "source": [
        "### Question 07-->How do tuples ensure data integrity in Python?\n",
        "***Ans-->*** Tuples ensure data integrity in Python primarily through their immutability—once a tuple is created, its contents cannot be changed, added to, or removed. This immutable nature guarantees that the data remains consistent and unaltered throughout the program, reducing the risk of bugs caused by accidental modification."
      ],
      "metadata": {
        "id": "wYELRxqfdpCX"
      }
    },
    {
      "cell_type": "markdown",
      "source": [
        "### Question 08-->What is a hash table, and how does it relate to dictionaries in Python?\n",
        "***Ans-->*** A hash table is a data structure that efficiently maps keys to values using a process called hashing. It works by applying a hash function to each key, which produces a unique index where the value is stored in an array."
      ],
      "metadata": {
        "id": "u_xNgc9Ldo-9"
      }
    },
    {
      "cell_type": "markdown",
      "source": [
        "### Question 09-->Can lists contain different data types in Python?\n",
        "***Ans-->*** Yes, lists in Python can contain elements of different data types. A single list can hold a mixture of integers, floats, strings, booleans, and even other complex data structures such as other lists, tuples, or dictionaries."
      ],
      "metadata": {
        "id": "kaWEUEArdo72"
      }
    },
    {
      "cell_type": "markdown",
      "source": [
        "### Qusetion 10-->Explain why strings are immutable in Python.\n",
        "***Ans-->*** Strings are immutable in Python because, once created, their contents cannot be altered. This immutability helps avoid accidental changes that could introduce bugs, making the program more reliable."
      ],
      "metadata": {
        "id": "Uq0b-6GXdo4D"
      }
    },
    {
      "cell_type": "markdown",
      "source": [
        "### Question 11-->What advantages do dictionaries offer over lists for certain tasks?\n",
        "***Ans-->*** Dictionaries offer several advantages over lists for certain tasks, primarily due to their structure as key-value stores. Unlike lists, which are ordered collections accessed by integer indices, dictionaries allow you to access values quickly using unique keys."
      ],
      "metadata": {
        "id": "xPEbpXZ9do0E"
      }
    },
    {
      "cell_type": "markdown",
      "source": [
        "### Question 12-->Describe a scenario where using a tuple would be preferable over a list.\n",
        "***Ans-->*** A scenario where using a tuple would be preferable over a list is when you need to store a fixed collection of values that should not change throughout the program."
      ],
      "metadata": {
        "id": "d9Y9cbXXdotE"
      }
    },
    {
      "cell_type": "markdown",
      "source": [
        "### Question 13 -->How do sets handle duplicate values in Python?\n",
        "***Ans-->*** In Python, sets automatically handle duplicate values by ignoring them—only one instance of each value is stored in the set regardless of how many times it is added. When you try to add a duplicate item, the set simply retains the original without creating a new entry. This behavior occurs because sets store unique elements using a hash-based structure, which quickly identifies duplicates."
      ],
      "metadata": {
        "id": "YjsiUMQudogV"
      }
    },
    {
      "cell_type": "markdown",
      "source": [
        "### Question 14-->P How does the “in” keyword work differently for lists and dictionaries?\n",
        "***Ans-->***  In a list, \"in\" searches for a matching value, while in a dictionary, it searches for a matching key, not a value."
      ],
      "metadata": {
        "id": "_Yv5k6oDf4tS"
      }
    },
    {
      "cell_type": "markdown",
      "source": [
        "### Question 15-->Can you modify the elements of a tuple? Explain why or why not.\n",
        "***Ans-->*** You cannot modify the elements of a tuple in Python because tuples are immutable. This means once a tuple is created, its contents cannot be changed, added to, or removed. Attempting to modify an element of a tuple results in a TypeError.\n"
      ],
      "metadata": {
        "id": "BWehkLiBf4mj"
      }
    },
    {
      "cell_type": "markdown",
      "source": [
        "### Question 16-->What is a nested dictionary, and give an example of its use case.\n",
        "***Ans-->*** A nested dictionary in Python is a dictionary where the values themselves are dictionaries, allowing for hierarchical data storage and representing complex relationships. This structure is useful for organizing grouped or related data efficiently."
      ],
      "metadata": {
        "id": "j54GdqI7f4bL"
      }
    },
    {
      "cell_type": "markdown",
      "source": [
        "### Question 17-->Describe the time complexity of accessing elements in a dictionary.\n",
        "***Ans-->***  The time complexity of accessing elements in a Python dictionary is generally O(1), meaning it takes constant time on average to retrieve a value by its key. This efficiency stems from the dictionary’s internal implementation using a hash table, where the key is hashed to directly locate the associated value."
      ],
      "metadata": {
        "id": "-KbVofYcf4TM"
      }
    },
    {
      "cell_type": "markdown",
      "source": [
        "### Question 18--> In what situations are lists preferred over dictionaries?\n",
        "***Ans-->*** Lists are preferred over dictionaries in situations where you need to maintain an ordered collection of items that may include duplicates or when you want to access elements by their position (index). Lists are well-suited for sequential data that requires operations like slicing, sorting, or iterating in a specific order. They are also more memory-efficient compared to dictionaries for simple collections."
      ],
      "metadata": {
        "id": "VggUTvrzf4MC"
      }
    },
    {
      "cell_type": "markdown",
      "source": [
        "### Question 19--> Why are dictionaries considered unordered, and how does that affect data retrieval?\n",
        "***Ans-->*** Dictionaries in Python have historically been considered unordered because their internal structure—based on hash tables—does not guarantee any predictable arrangement of key-value pairs."
      ],
      "metadata": {
        "id": "LQSWUsHwf4ET"
      }
    },
    {
      "cell_type": "markdown",
      "source": [
        "### Question 20-->Explain the difference between a list and a dictionary in terms of data retrieval.\n",
        "***Ans-->*** The primary difference between a list and a dictionary in terms of data retrieval lies in how elements are accessed. In a list, elements are accessed by their numerical index, which represents the position of the item within the ordered collection. This means retrieving an element requires knowing its position.\n",
        "\n",
        " In contrast, dictionaries use keys to retrieve values, where each key is unique and maps directly to its associated value."
      ],
      "metadata": {
        "id": "m3bmVfHOf3aD"
      }
    },
    {
      "cell_type": "markdown",
      "source": [
        "#***Practical Solutions***"
      ],
      "metadata": {
        "id": "stWCWBfxgq7-"
      }
    },
    {
      "cell_type": "code",
      "source": [
        "# Question 01--> Write a code to create a string with your name and print it\n",
        "my_name=\"Akash Negi\"\n",
        "print(my_name)"
      ],
      "metadata": {
        "colab": {
          "base_uri": "https://localhost:8080/"
        },
        "id": "sdoUDqvPiBLV",
        "outputId": "8022ace8-cc6f-4eb3-ffa1-7a31f9c1b42f"
      },
      "execution_count": 2,
      "outputs": [
        {
          "output_type": "stream",
          "name": "stdout",
          "text": [
            "Akash Negi\n"
          ]
        }
      ]
    },
    {
      "cell_type": "code",
      "source": [
        "# Question 02--> Write a code to find the length of the string \"Hello World\"\n",
        "count_len=\"HELLO WORLD\"\n",
        "print(len(count_len))"
      ],
      "metadata": {
        "colab": {
          "base_uri": "https://localhost:8080/"
        },
        "id": "EcyvsBM0iBIq",
        "outputId": "e8c03876-fe6e-481e-f3d8-e4d281e23789"
      },
      "execution_count": 3,
      "outputs": [
        {
          "output_type": "stream",
          "name": "stdout",
          "text": [
            "11\n"
          ]
        }
      ]
    },
    {
      "cell_type": "code",
      "source": [
        "# Question 03--> Write a code to slice the first 3 characters from the string \"Python Programming\"\n",
        "slice_str=\"Python Programming\"\n",
        "print(slice_str[0:3])"
      ],
      "metadata": {
        "colab": {
          "base_uri": "https://localhost:8080/"
        },
        "id": "ypbspqqLiBGM",
        "outputId": "a0e041ed-b342-4eb2-e6a6-695f20ca08f2"
      },
      "execution_count": 1,
      "outputs": [
        {
          "output_type": "stream",
          "name": "stdout",
          "text": [
            "Pyt\n"
          ]
        }
      ]
    },
    {
      "cell_type": "code",
      "source": [
        "# Question 04--> Write a code to convert the string \"hello\" to uppercase.\n",
        "upper_str=\"hello\"\n",
        "print(upper_str.upper())"
      ],
      "metadata": {
        "colab": {
          "base_uri": "https://localhost:8080/"
        },
        "id": "HpNd2I_3iBDa",
        "outputId": "ae71f65c-1de8-4042-8b33-3e399f90496b"
      },
      "execution_count": 2,
      "outputs": [
        {
          "output_type": "stream",
          "name": "stdout",
          "text": [
            "HELLO\n"
          ]
        }
      ]
    },
    {
      "cell_type": "code",
      "source": [
        "# Question 05--> Write a code to replace the word \"apple\" with \"orange\" in the string \"I like apple\"\n",
        "replace_str=\"I like apple\"\n",
        "print(replace_str.replace(\"apple\",\"orange\"))\n",
        "print(replace_str)"
      ],
      "metadata": {
        "colab": {
          "base_uri": "https://localhost:8080/"
        },
        "id": "nC84rocmiApj",
        "outputId": "7343a879-c522-4237-9bd2-b8184b52b0b2"
      },
      "execution_count": 4,
      "outputs": [
        {
          "output_type": "stream",
          "name": "stdout",
          "text": [
            "I like orange\n",
            "I like apple\n"
          ]
        }
      ]
    },
    {
      "cell_type": "code",
      "source": [
        "# Question 06--> Write a code to create a list with numbers 1 to 5 and print it\n",
        "list_num=[1,2,3,4,5]\n",
        "print(list_num)"
      ],
      "metadata": {
        "colab": {
          "base_uri": "https://localhost:8080/"
        },
        "id": "Pa06IIcniJWU",
        "outputId": "b9621369-cf79-49ed-8a52-df180fcccd0f"
      },
      "execution_count": 5,
      "outputs": [
        {
          "output_type": "stream",
          "name": "stdout",
          "text": [
            "[1, 2, 3, 4, 5]\n"
          ]
        }
      ]
    },
    {
      "cell_type": "code",
      "source": [
        "# Question 07-->  Write a code to append the number 10 to the list [1, 2, 3, 4]\n",
        "append_list=[1,2,3,4]\n",
        "append_list.append(10)\n",
        "print(append_list)\n"
      ],
      "metadata": {
        "id": "OtmDylQ6iJP2"
      },
      "execution_count": null,
      "outputs": []
    },
    {
      "cell_type": "code",
      "source": [
        "# Question 08--> Write a code to remove the number 3 from the list [1, 2, 3, 4, 5]\n",
        "remove_list=[1,2,3,4,5]\n",
        "remove_list.remove(3)\n",
        "print(remove_list)"
      ],
      "metadata": {
        "colab": {
          "base_uri": "https://localhost:8080/"
        },
        "id": "K1ev5XZJiJJb",
        "outputId": "05d0d968-7017-495c-8594-794651df02c9"
      },
      "execution_count": 9,
      "outputs": [
        {
          "output_type": "stream",
          "name": "stdout",
          "text": [
            "[1, 2, 4, 5]\n"
          ]
        }
      ]
    },
    {
      "cell_type": "code",
      "source": [
        "# Question 09--> Write a code to access the second element in the list ['a', 'b', 'c', 'd']\n",
        "access_list=['a','b','c','d']\n",
        "print(access_list[1])"
      ],
      "metadata": {
        "colab": {
          "base_uri": "https://localhost:8080/"
        },
        "id": "oO6tRT14iJEF",
        "outputId": "294cf978-068b-465c-fa42-bc6cb0f081f8"
      },
      "execution_count": 10,
      "outputs": [
        {
          "output_type": "stream",
          "name": "stdout",
          "text": [
            "b\n"
          ]
        }
      ]
    },
    {
      "cell_type": "code",
      "source": [
        "# Question 10--> Write a code to reverse the list [10, 20, 30, 40, 50].\n",
        "reverse_list=[10,20,30,40,50]\n",
        "reverse_list.reverse()\n",
        "print(reverse_list)"
      ],
      "metadata": {
        "colab": {
          "base_uri": "https://localhost:8080/"
        },
        "id": "3bo2lPuviI-r",
        "outputId": "5e70240b-0923-4fea-a8e9-a1897afd8e68"
      },
      "execution_count": 11,
      "outputs": [
        {
          "output_type": "stream",
          "name": "stdout",
          "text": [
            "[50, 40, 30, 20, 10]\n"
          ]
        }
      ]
    },
    {
      "cell_type": "code",
      "source": [
        "# Qusetion 11--> Write a code to create a tuple with the elements 100, 200, 300 and print it.\n",
        "tuple_num=(100,200,300)\n",
        "print(tuple_num)"
      ],
      "metadata": {
        "id": "FALYg-AxiI5P"
      },
      "execution_count": null,
      "outputs": []
    },
    {
      "cell_type": "code",
      "source": [
        "# Question 12--> Write a code to access the second-to-last element of the tuple ('red', 'green', 'blue', 'yellow').\n",
        "colors = ('red', 'green', 'blue', 'yellow')\n",
        "second_to_last = colors[-2]\n",
        "print(second_to_last)"
      ],
      "metadata": {
        "id": "sQ1UYOhBiIz9"
      },
      "execution_count": null,
      "outputs": []
    },
    {
      "cell_type": "code",
      "source": [
        "# Question 13--> Write a code to find the minimum number in the tuple (10, 20, 5, 15).\n",
        "min_num=(10,20,5,15)\n",
        "print(min(min_num))"
      ],
      "metadata": {
        "id": "cOsYfAHyiIuD"
      },
      "execution_count": null,
      "outputs": []
    },
    {
      "cell_type": "code",
      "source": [
        "# Qustion 14--> Write a code to find the index of the element \"cat\" in the tuple ('dog', 'cat', 'rabbit').\n",
        "animal_tuple=('dog','cat','rabbit')\n",
        "print(animal_tuple.index('cat'))"
      ],
      "metadata": {
        "colab": {
          "base_uri": "https://localhost:8080/"
        },
        "id": "OuKsNkt1iIoM",
        "outputId": "dc2a1289-b85c-484f-b94e-d4dabb46aef0"
      },
      "execution_count": 12,
      "outputs": [
        {
          "output_type": "stream",
          "name": "stdout",
          "text": [
            "1\n"
          ]
        }
      ]
    },
    {
      "cell_type": "code",
      "source": [
        "# Question 15--> Write a code to create a tuple containing three different fruits and check if \"kiwi\" is in it.\n",
        "fruits_tuple=(\"apple\",\"banana\",\"kiwi\")\n",
        "print(\"kiwi\" in fruits_tuple)"
      ],
      "metadata": {
        "colab": {
          "base_uri": "https://localhost:8080/"
        },
        "id": "Wl2j4XzmiIhz",
        "outputId": "b37ba71e-5972-4699-a1d1-cf2ac5a3c700"
      },
      "execution_count": 13,
      "outputs": [
        {
          "output_type": "stream",
          "name": "stdout",
          "text": [
            "True\n"
          ]
        }
      ]
    },
    {
      "cell_type": "code",
      "source": [
        "# Question 16--> Write a code to create a set with the elements 'a', 'b', 'c' and print it.\n",
        "set_str={\"a\",\"b\",\"c\"}\n",
        "print(set_str)\n"
      ],
      "metadata": {
        "colab": {
          "base_uri": "https://localhost:8080/"
        },
        "id": "25G5KtVhiIa9",
        "outputId": "744e5811-c85c-4ef6-9cb7-a07974bc92f4"
      },
      "execution_count": 14,
      "outputs": [
        {
          "output_type": "stream",
          "name": "stdout",
          "text": [
            "{'a', 'c', 'b'}\n"
          ]
        }
      ]
    },
    {
      "cell_type": "code",
      "source": [
        "# Question17--> Write a code to clear all elements from the set {1, 2, 3, 4, 5}.\n",
        "clear_set={1,2,3,4,5}\n",
        "clear_set.clear()\n",
        "print(clear_set)"
      ],
      "metadata": {
        "colab": {
          "base_uri": "https://localhost:8080/"
        },
        "id": "bnBgNkyliIU9",
        "outputId": "e2abb0e0-1be5-4796-d1a9-8b60f2c23af8"
      },
      "execution_count": 15,
      "outputs": [
        {
          "output_type": "stream",
          "name": "stdout",
          "text": [
            "set()\n"
          ]
        }
      ]
    },
    {
      "cell_type": "code",
      "source": [
        "# Question 18--> Write a code to remove the element 4 from the set {1, 2, 3, 4}.\n",
        "remove_set={1,2,3,4}\n",
        "remove_set.remove(4)\n",
        "print(remove_set)\n"
      ],
      "metadata": {
        "colab": {
          "base_uri": "https://localhost:8080/"
        },
        "id": "snKO2FVPiIMy",
        "outputId": "0299cdaa-39b9-4314-8ad1-4b3e40d5d7c7"
      },
      "execution_count": 16,
      "outputs": [
        {
          "output_type": "stream",
          "name": "stdout",
          "text": [
            "{1, 2, 3}\n"
          ]
        }
      ]
    },
    {
      "cell_type": "code",
      "source": [
        "# Question 19--> Write a code to find the union of two sets {1, 2, 3} and {3, 4, 5}.\n",
        "set1={1,2,3}\n",
        "set2={3,4,5}\n",
        "union_set=set1 | set2\n",
        "print(union_set)\n",
        "\n"
      ],
      "metadata": {
        "colab": {
          "base_uri": "https://localhost:8080/"
        },
        "id": "Ww-nQCgwiIGe",
        "outputId": "bd4788f2-d356-40fc-aa25-0c01f9fd873c"
      },
      "execution_count": 17,
      "outputs": [
        {
          "output_type": "stream",
          "name": "stdout",
          "text": [
            "{1, 2, 3, 4, 5}\n"
          ]
        }
      ]
    },
    {
      "cell_type": "code",
      "source": [
        "#  Question 20--> Write a code to find the intersection of two sets {1, 2, 3} and {2, 3, 4}.\n",
        "set1={1,2,3}\n",
        "set2={2,3,4}\n",
        "intersection_set=set1 & set2\n",
        "print(intersection_set)"
      ],
      "metadata": {
        "colab": {
          "base_uri": "https://localhost:8080/"
        },
        "id": "rG_OVC66iIBB",
        "outputId": "77d9be07-1c65-4a76-b8c1-12f66adb5157"
      },
      "execution_count": 18,
      "outputs": [
        {
          "output_type": "stream",
          "name": "stdout",
          "text": [
            "{2, 3}\n"
          ]
        }
      ]
    },
    {
      "cell_type": "code",
      "source": [
        "#  Question 21--> Write a code to create a dictionary with the keys \"name\", \"age\", and \"city\", and print it.\n",
        "dict={\"name\":\"Akash\",\"age\":21,\"city\":\"Dehradun\"}\n",
        "print(dict)\n"
      ],
      "metadata": {
        "colab": {
          "base_uri": "https://localhost:8080/"
        },
        "id": "iLcsduUViH6S",
        "outputId": "e1c7841d-5f2f-4ccf-ce16-dc9d682af37e"
      },
      "execution_count": 19,
      "outputs": [
        {
          "output_type": "stream",
          "name": "stdout",
          "text": [
            "{'name': 'Akash', 'age': 20, 'city': 'Lucknow'}\n"
          ]
        }
      ]
    },
    {
      "cell_type": "code",
      "source": [
        "# Question 22-->  Write a code to add a new key-value pair \"country\": \"USA\" to the dictionary {'name': 'John', 'age': 25}.\n",
        "dict={\"name\":\"John\",\"age\":25}\n",
        "dict.update({\"Country\":\"USA\"})\n",
        "print(dict)\n",
        "\n",
        "\n"
      ],
      "metadata": {
        "colab": {
          "base_uri": "https://localhost:8080/"
        },
        "id": "z0YzoAhXiH0c",
        "outputId": "c5d534a3-beae-49bd-c36b-7e90cf4671cd"
      },
      "execution_count": 20,
      "outputs": [
        {
          "output_type": "stream",
          "name": "stdout",
          "text": [
            "{'name': 'John', 'age': 25, 'Country': 'USA'}\n"
          ]
        }
      ]
    },
    {
      "cell_type": "code",
      "source": [
        "# Question 23--> Write a code to access the value associated with the key \"name\" in the dictionary {'name': 'Alice', 'age': 30}.\n",
        "dict={'name': 'Alice', 'age': 30}\n",
        "print(dict[\"name\"])"
      ],
      "metadata": {
        "colab": {
          "base_uri": "https://localhost:8080/"
        },
        "id": "-uVWEhoHiHuN",
        "outputId": "3a4631e7-46c7-4995-c21b-7e74f9c9fe5c"
      },
      "execution_count": 21,
      "outputs": [
        {
          "output_type": "stream",
          "name": "stdout",
          "text": [
            "Alice\n"
          ]
        }
      ]
    },
    {
      "cell_type": "code",
      "source": [
        "# Question 24-->  Write a code to remove the key \"age\" from the dictionary {'name': 'Bob', 'age': 22, 'city': 'New York'}.\n",
        "dict={'name': 'Bob', 'age': 22, 'city': 'New York'}\n",
        "dict.pop(\"age\")\n",
        "print(dict)"
      ],
      "metadata": {
        "colab": {
          "base_uri": "https://localhost:8080/"
        },
        "id": "mqyXnJcjiHni",
        "outputId": "f05c04c6-3f4d-443f-933b-3315f28942a4"
      },
      "execution_count": 22,
      "outputs": [
        {
          "output_type": "stream",
          "name": "stdout",
          "text": [
            "{'name': 'Bob', 'city': 'New York'}\n"
          ]
        }
      ]
    },
    {
      "cell_type": "code",
      "source": [
        "# Question 25-->  Write a code to check if the key \"city\" exists in the dictionary {'name': 'Alice', 'city': 'Paris'}.\n",
        "dict={'name': 'Alice', 'city': 'Paris'}\n",
        "print(\"city\" in dict)"
      ],
      "metadata": {
        "colab": {
          "base_uri": "https://localhost:8080/"
        },
        "id": "0nn6M5reiHf2",
        "outputId": "5280f57b-1b7e-4360-f688-ded8b61bd5c6"
      },
      "execution_count": 23,
      "outputs": [
        {
          "output_type": "stream",
          "name": "stdout",
          "text": [
            "True\n"
          ]
        }
      ]
    },
    {
      "cell_type": "code",
      "source": [
        "# Question 26-->  Write a code to create a list, a tuple, and a dictionary, and print them all.\n",
        "list_num=[1,2,3,4,5]\n",
        "tuple_num=(1,2,3,4,5)\n",
        "dict={\"name\":\"Akash\",\"age\":21,\"city\":\"Dehradun\"}\n",
        "print(list_num)\n",
        "print(tuple_num)\n",
        "print(dict)"
      ],
      "metadata": {
        "id": "XQHTXAN2iHZF"
      },
      "execution_count": null,
      "outputs": []
    },
    {
      "cell_type": "code",
      "source": [
        "# Question 27--> Write a code to create a list of 5 random numbers between 1 and 100, sort it in ascending order, and print the\n",
        "# result.(replaced)\n",
        "random_list=[11,52,83,46,5]\n",
        "random_list.sort()\n",
        "print(random_list)"
      ],
      "metadata": {
        "colab": {
          "base_uri": "https://localhost:8080/"
        },
        "id": "GVEFr4UkiHRK",
        "outputId": "74930ff7-ab4e-4980-c8f2-3bb54dc0bff7"
      },
      "execution_count": 24,
      "outputs": [
        {
          "output_type": "stream",
          "name": "stdout",
          "text": [
            "[5, 11, 46, 52, 83]\n"
          ]
        }
      ]
    },
    {
      "cell_type": "code",
      "source": [
        "# Question 28--> Write a code to create a list with strings and print the element at the third index.\n",
        "l=[\"apple\",True,\"banana\",\"orange\",\"kiwi\",154]\n",
        "print(l[2])"
      ],
      "metadata": {
        "colab": {
          "base_uri": "https://localhost:8080/"
        },
        "id": "lQeVeiGDiHK6",
        "outputId": "5031a533-ae90-47d0-f1ad-ab96ce9028da"
      },
      "execution_count": 25,
      "outputs": [
        {
          "output_type": "stream",
          "name": "stdout",
          "text": [
            "banana\n"
          ]
        }
      ]
    },
    {
      "cell_type": "code",
      "source": [
        "# Question 29--> Write a code to combine two dictionaries into one and print the result.\n",
        "dict1={\"name\":\"Akash\",\"age\":21}\n",
        "dict2={\"city\":\"Dehradun\",\"country\":\"India\"}\n",
        "dict1.update(dict2)\n",
        "print(dict1)"
      ],
      "metadata": {
        "colab": {
          "base_uri": "https://localhost:8080/"
        },
        "id": "PXW__R26iHCr",
        "outputId": "27684b4b-0a9d-46ea-8382-2b5ad68779a2"
      },
      "execution_count": 27,
      "outputs": [
        {
          "output_type": "stream",
          "name": "stdout",
          "text": [
            "{'name': 'Akash', 'age': 21, 'city': 'Dehradun', 'country': 'India'}\n"
          ]
        }
      ]
    },
    {
      "cell_type": "code",
      "execution_count": 28,
      "metadata": {
        "id": "4H2QT5V4c77t",
        "colab": {
          "base_uri": "https://localhost:8080/"
        },
        "outputId": "7f971db2-1598-4619-fe6c-e103015031b7"
      },
      "outputs": [
        {
          "output_type": "stream",
          "name": "stdout",
          "text": [
            "{True, 'apple', 'orange', 154, 'kiwi', 'banana'}\n"
          ]
        }
      ],
      "source": [
        "# Question 30--> Write a code to convert a list of strings into a set.\n",
        "l=[\"apple\",True,\"banana\",\"orange\",\"kiwi\",154,\"banana\"]\n",
        "print(set(l))\n"
      ]
    }
  ]
}